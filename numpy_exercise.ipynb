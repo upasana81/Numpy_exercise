{
 "cells": [
  {
   "cell_type": "code",
   "execution_count": 1,
   "id": "d6d983e8-d424-4bf2-9164-197105f5a029",
   "metadata": {},
   "outputs": [],
   "source": [
    "# Import NumPy as its abbreviation 'np'\n",
    "import numpy as np\n"
   ]
  },
  {
   "cell_type": "code",
   "execution_count": 2,
   "id": "ab1904c8-4322-4339-bd96-1b045d0610c5",
   "metadata": {},
   "outputs": [],
   "source": [
    "# Create a 1-dimensional NumPy array using np.array()\n",
    "# Create a 2-dimensional NumPy array using np.array()\n",
    "# Create a 3-dimensional Numpy array using np.array()\n",
    "a1 = np.array(\n",
    "    [1,2,3])\n",
    "a2 = np.array([[1,2,3], \n",
    "               [4,5,6]])\n",
    "a3 = np.array([[[1, 2, 3],\n",
    "                [4, 5, 6],\n",
    "                [7, 8, 9]],\n",
    "               \n",
    "               [[10, 11, 12],\n",
    "                [13, 14, 15],\n",
    "                [16, 17, 18]]])\n"
   ]
  },
  {
   "cell_type": "code",
   "execution_count": 3,
   "id": "0d91fa44-dc71-462b-aa05-f9973ee348fb",
   "metadata": {},
   "outputs": [
    {
     "data": {
      "text/plain": [
       "((3,), 1, dtype('int32'), 3)"
      ]
     },
     "execution_count": 3,
     "metadata": {},
     "output_type": "execute_result"
    }
   ],
   "source": [
    "# Attributes of 1-dimensional array (shape,\n",
    "# number of dimensions, data type, size and type)\n",
    "a1.shape , a1.ndim , a1.dtype, a1.size"
   ]
  },
  {
   "cell_type": "code",
   "execution_count": 4,
   "id": "589eb369-9337-4c49-8b5c-57a581da5956",
   "metadata": {},
   "outputs": [
    {
     "data": {
      "text/plain": [
       "((2, 3), 2, dtype('int32'), 6)"
      ]
     },
     "execution_count": 4,
     "metadata": {},
     "output_type": "execute_result"
    }
   ],
   "source": [
    "# Attributes of 2-dimensional array\n",
    "a2.shape , a2.ndim , a2.dtype, a2.size"
   ]
  },
  {
   "cell_type": "code",
   "execution_count": 5,
   "id": "642b70d5-dbf8-4903-b28a-ba9821485793",
   "metadata": {},
   "outputs": [
    {
     "data": {
      "text/plain": [
       "((2, 3, 3), 3, dtype('int32'), 18)"
      ]
     },
     "execution_count": 5,
     "metadata": {},
     "output_type": "execute_result"
    }
   ],
   "source": [
    "# Attributes of 3-dimensional array\n",
    "a3.shape , a3.ndim , a3.dtype, a3.size"
   ]
  },
  {
   "cell_type": "code",
   "execution_count": 103,
   "id": "10eadffb-113c-4fc9-b0b3-63a68f638e4d",
   "metadata": {},
   "outputs": [],
   "source": [
    "# Import pandas and create a DataFrame out of one of the arrays you've created\n",
    "import pandas as pd\n",
    "df = pd.DataFrame(a2, columns=['A', 'B', 'C'])"
   ]
  },
  {
   "cell_type": "code",
   "execution_count": 7,
   "id": "51bb9881-55bf-4577-8a6f-f9f7c5827e50",
   "metadata": {},
   "outputs": [
    {
     "data": {
      "text/plain": [
       "array([[1., 1.],\n",
       "       [1., 1.],\n",
       "       [1., 1.],\n",
       "       [1., 1.],\n",
       "       [1., 1.],\n",
       "       [1., 1.],\n",
       "       [1., 1.],\n",
       "       [1., 1.],\n",
       "       [1., 1.],\n",
       "       [1., 1.]])"
      ]
     },
     "execution_count": 7,
     "metadata": {},
     "output_type": "execute_result"
    }
   ],
   "source": [
    "# Create an array of shape (10, 2) with only ones\n",
    "ones = np.ones([10,2]) \n",
    "ones"
   ]
  },
  {
   "cell_type": "code",
   "execution_count": 8,
   "id": "5dc871fd-6a61-4980-9b54-a58a3c708df9",
   "metadata": {},
   "outputs": [
    {
     "data": {
      "text/plain": [
       "array([[[0., 0., 0.],\n",
       "        [0., 0., 0.]],\n",
       "\n",
       "       [[0., 0., 0.],\n",
       "        [0., 0., 0.]],\n",
       "\n",
       "       [[0., 0., 0.],\n",
       "        [0., 0., 0.]],\n",
       "\n",
       "       [[0., 0., 0.],\n",
       "        [0., 0., 0.]],\n",
       "\n",
       "       [[0., 0., 0.],\n",
       "        [0., 0., 0.]],\n",
       "\n",
       "       [[0., 0., 0.],\n",
       "        [0., 0., 0.]],\n",
       "\n",
       "       [[0., 0., 0.],\n",
       "        [0., 0., 0.]]])"
      ]
     },
     "execution_count": 8,
     "metadata": {},
     "output_type": "execute_result"
    }
   ],
   "source": [
    "# Create an array of shape (7, 2, 3) of only zeros\n",
    "zeros = np.zeros([7,2,3])\n",
    "zeros"
   ]
  },
  {
   "cell_type": "code",
   "execution_count": 9,
   "id": "2be39219-c527-4d0a-bdc2-62d9980870c1",
   "metadata": {},
   "outputs": [
    {
     "data": {
      "text/plain": [
       "array([ 0,  3,  6,  9, 12, 15, 18, 21, 24, 27, 30, 33, 36, 39, 42, 45, 48,\n",
       "       51, 54, 57, 60, 63, 66, 69, 72, 75, 78, 81, 84, 87, 90, 93, 96, 99])"
      ]
     },
     "execution_count": 9,
     "metadata": {},
     "output_type": "execute_result"
    }
   ],
   "source": [
    "# Create an array within a range of 0 and 100 with step 3\n",
    "step = np.arange(0,100,3)\n",
    "step"
   ]
  },
  {
   "cell_type": "code",
   "execution_count": 10,
   "id": "00b02b36-e873-48db-82e2-7f2f14f7a4ff",
   "metadata": {},
   "outputs": [
    {
     "data": {
      "text/plain": [
       "array([[7, 9],\n",
       "       [4, 5],\n",
       "       [7, 7],\n",
       "       [1, 4],\n",
       "       [3, 1],\n",
       "       [1, 5],\n",
       "       [7, 0]])"
      ]
     },
     "execution_count": 10,
     "metadata": {},
     "output_type": "execute_result"
    }
   ],
   "source": [
    "# Create a random array with numbers between 0 and 10 of size (7, 2)\n",
    "np.random.randint(0,10,(7,2))"
   ]
  },
  {
   "cell_type": "code",
   "execution_count": 11,
   "id": "3c1d8e09-9791-4e56-93d6-88682fbddf8d",
   "metadata": {},
   "outputs": [
    {
     "data": {
      "text/plain": [
       "array([[0.00441128, 0.75078774, 0.59630709, 0.67787478, 0.97765516],\n",
       "       [0.44204092, 0.22132823, 0.33525465, 0.44977552, 0.37509307],\n",
       "       [0.58986764, 0.59916197, 0.90866323, 0.22009447, 0.52901076]])"
      ]
     },
     "execution_count": 11,
     "metadata": {},
     "output_type": "execute_result"
    }
   ],
   "source": [
    "# Create a random array of floats between 0 & 1 of shape (3, 5)\n",
    "rfloat = np.random.rand(3,5)\n",
    "rfloat"
   ]
  },
  {
   "cell_type": "code",
   "execution_count": 12,
   "id": "31d19647-5ac0-4974-974d-366e2febaef2",
   "metadata": {},
   "outputs": [
    {
     "data": {
      "text/plain": [
       "array([[6, 3, 7, 4, 6, 9],\n",
       "       [2, 6, 7, 4, 3, 7],\n",
       "       [7, 2, 5, 4, 1, 7],\n",
       "       [5, 1, 4, 0, 9, 5]])"
      ]
     },
     "execution_count": 12,
     "metadata": {},
     "output_type": "execute_result"
    }
   ],
   "source": [
    "# Set the random seed to 42\n",
    "# Create a random array of numbers between 0 & 10 of size (4, 6)\n",
    "np.random.seed(42)\n",
    "np.random.randint(0,10,(4,6))"
   ]
  },
  {
   "cell_type": "code",
   "execution_count": 13,
   "id": "9a353355-e8b0-4f2a-9f8a-b8324f0a0e81",
   "metadata": {},
   "outputs": [
    {
     "data": {
      "text/plain": [
       "array([[9, 1, 3, 7, 4, 9, 3],\n",
       "       [5, 3, 7, 5, 9, 7, 2],\n",
       "       [4, 9, 2, 9, 5, 2, 4]])"
      ]
     },
     "execution_count": 13,
     "metadata": {},
     "output_type": "execute_result"
    }
   ],
   "source": [
    "#Create an array of random numbers between 1 & 10 of size (3, 7) and save it to a variable\n",
    "# Find the unique numbers in the array you just created\n",
    "a4= np.random.randint(1,10,(3,7))\n",
    "a4"
   ]
  },
  {
   "cell_type": "code",
   "execution_count": 15,
   "id": "d8202d27-8862-462b-a5ff-045edf65ffd0",
   "metadata": {},
   "outputs": [
    {
     "data": {
      "text/plain": [
       "9"
      ]
     },
     "execution_count": 15,
     "metadata": {},
     "output_type": "execute_result"
    }
   ],
   "source": [
    "# Find the 0'th index of the latest array you created\n",
    "a4[0][0]"
   ]
  },
  {
   "cell_type": "code",
   "execution_count": 14,
   "id": "950db886-e80c-4135-9e69-86732fae5590",
   "metadata": {},
   "outputs": [
    {
     "data": {
      "text/plain": [
       "array([[9, 1, 3, 7, 4, 9, 3],\n",
       "       [5, 3, 7, 5, 9, 7, 2]])"
      ]
     },
     "execution_count": 14,
     "metadata": {},
     "output_type": "execute_result"
    }
   ],
   "source": [
    "# Get the first 2 rows of latest array you created\n",
    "a4[:2]"
   ]
  },
  {
   "cell_type": "code",
   "execution_count": 16,
   "id": "b34ed4a8-7281-4347-b16b-85808283aea4",
   "metadata": {},
   "outputs": [
    {
     "data": {
      "text/plain": [
       "array([[9, 1],\n",
       "       [5, 3]])"
      ]
     },
     "execution_count": 16,
     "metadata": {},
     "output_type": "execute_result"
    }
   ],
   "source": [
    "# Get the first 2 values of the first 2 rows of the latest array\n",
    "a4[:2, :2]"
   ]
  },
  {
   "cell_type": "code",
   "execution_count": 33,
   "id": "ebb86c4f-06f4-4943-ba38-e6f5ea036eaf",
   "metadata": {},
   "outputs": [],
   "source": [
    "# Create a random array of numbers between 0 & 10 and an array of ones both of size (3, 5), save them both to variables\n",
    "a5 = np.random.randint(0,10,(3,5))\n",
    "ones = np.ones((3,5))"
   ]
  },
  {
   "cell_type": "code",
   "execution_count": 60,
   "id": "cb7f5035-00f0-4e71-a6b7-5fd3b1b340d9",
   "metadata": {},
   "outputs": [
    {
     "data": {
      "text/plain": [
       "array([[10.,  2., 10.,  4.,  8.],\n",
       "       [ 7.,  9.,  8.,  5.,  2.],\n",
       "       [ 5.,  8., 10.,  9.,  9.]])"
      ]
     },
     "execution_count": 60,
     "metadata": {},
     "output_type": "execute_result"
    }
   ],
   "source": [
    "# Add the two arrays together\n",
    "sum= a5 + ones\n",
    "sum"
   ]
  },
  {
   "cell_type": "code",
   "execution_count": 61,
   "id": "f67d9185-5ef9-4e7f-ac44-bc8d7ac62ae4",
   "metadata": {},
   "outputs": [],
   "source": [
    "#Create another array of ones of shape (5, 3)\n",
    "ones_1 = np.ones((5,3))"
   ]
  },
  {
   "cell_type": "code",
   "execution_count": 62,
   "id": "4ce8de5e-dc11-4000-806f-6616011b74a4",
   "metadata": {},
   "outputs": [
    {
     "ename": "ValueError",
     "evalue": "operands could not be broadcast together with shapes (5,3) (3,5) ",
     "output_type": "error",
     "traceback": [
      "\u001b[1;31m---------------------------------------------------------------------------\u001b[0m",
      "\u001b[1;31mValueError\u001b[0m                                Traceback (most recent call last)",
      "\u001b[1;32m<ipython-input-62-9f199f73710e>\u001b[0m in \u001b[0;36m<module>\u001b[1;34m\u001b[0m\n\u001b[1;32m----> 1\u001b[1;33m \u001b[0msum\u001b[0m \u001b[1;33m=\u001b[0m \u001b[0mones_1\u001b[0m \u001b[1;33m+\u001b[0m \u001b[0mones\u001b[0m\u001b[1;33m\u001b[0m\u001b[1;33m\u001b[0m\u001b[0m\n\u001b[0m",
      "\u001b[1;31mValueError\u001b[0m: operands could not be broadcast together with shapes (5,3) (3,5) "
     ]
    }
   ],
   "source": [
    "# Try add the array of ones and the other most recent array together\n",
    "sum = ones_1 + ones"
   ]
  },
  {
   "cell_type": "code",
   "execution_count": 73,
   "id": "64eab305-4547-4200-83ef-14c41a59cde9",
   "metadata": {},
   "outputs": [],
   "source": [
    "# Create another array of ones of shape (3, 5)\n",
    "ones_2 = np.ones((3,5))"
   ]
  },
  {
   "cell_type": "code",
   "execution_count": 74,
   "id": "f2677763-928e-4593-9ea3-9f9c48d6fe7a",
   "metadata": {},
   "outputs": [],
   "source": [
    "# Subtract the new array of ones from the other most recent array\n",
    "sum -= ones_2"
   ]
  },
  {
   "cell_type": "code",
   "execution_count": 75,
   "id": "2953f9ed-2905-4904-8d08-50cab9edba3e",
   "metadata": {},
   "outputs": [],
   "source": [
    "# Multiply the ones array with the latest array\n",
    "mult= ones_2 * sum"
   ]
  },
  {
   "cell_type": "code",
   "execution_count": 76,
   "id": "9526c165-d70b-446c-a198-5e5aa23e74f7",
   "metadata": {},
   "outputs": [
    {
     "data": {
      "text/plain": [
       "array([[64.,  0., 64.,  4., 36.],\n",
       "       [25., 49., 36.,  9.,  0.],\n",
       "       [ 9., 36., 64., 49., 49.]])"
      ]
     },
     "execution_count": 76,
     "metadata": {},
     "output_type": "execute_result"
    }
   ],
   "source": [
    "# Take the latest array to the power of 2 using '**'\n",
    "mult ** 2"
   ]
  },
  {
   "cell_type": "code",
   "execution_count": 78,
   "id": "1c57f2f4-b340-458e-93a8-df4f6e5b53d8",
   "metadata": {},
   "outputs": [
    {
     "data": {
      "text/plain": [
       "array([[64.,  0., 64.,  4., 36.],\n",
       "       [25., 49., 36.,  9.,  0.],\n",
       "       [ 9., 36., 64., 49., 49.]])"
      ]
     },
     "execution_count": 78,
     "metadata": {},
     "output_type": "execute_result"
    }
   ],
   "source": [
    "# Do the same thing with np.square()\n",
    "np.square(mult)"
   ]
  },
  {
   "cell_type": "code",
   "execution_count": 79,
   "id": "113f5111-c6b1-4b33-b412-8f857b6c972a",
   "metadata": {},
   "outputs": [
    {
     "data": {
      "text/plain": [
       "5.066666666666666"
      ]
     },
     "execution_count": 79,
     "metadata": {},
     "output_type": "execute_result"
    }
   ],
   "source": [
    "# Find the mean of the latest array using np.mean()\n",
    "np.mean(mult)"
   ]
  },
  {
   "cell_type": "code",
   "execution_count": 80,
   "id": "9faea82f-5182-40c3-86ac-a92e1b3c75a9",
   "metadata": {},
   "outputs": [
    {
     "data": {
      "text/plain": [
       "8.0"
      ]
     },
     "execution_count": 80,
     "metadata": {},
     "output_type": "execute_result"
    }
   ],
   "source": [
    "# Find the maximum of the latest array using np.max()\n",
    "np.max(mult)"
   ]
  },
  {
   "cell_type": "code",
   "execution_count": 81,
   "id": "d7f03d65-5a3c-4af9-9452-c9ff934d5fc3",
   "metadata": {},
   "outputs": [
    {
     "data": {
      "text/plain": [
       "0.0"
      ]
     },
     "execution_count": 81,
     "metadata": {},
     "output_type": "execute_result"
    }
   ],
   "source": [
    "# Find the minimum of the latest array using np.min()\n",
    "np.min(mult)"
   ]
  },
  {
   "cell_type": "code",
   "execution_count": 82,
   "id": "b3690c94-7739-491a-b871-105c95cfb667",
   "metadata": {},
   "outputs": [
    {
     "data": {
      "text/plain": [
       "2.6948510575210314"
      ]
     },
     "execution_count": 82,
     "metadata": {},
     "output_type": "execute_result"
    }
   ],
   "source": [
    "# Find the standard deviation of the latest array\n",
    "np.std(mult)"
   ]
  },
  {
   "cell_type": "code",
   "execution_count": 83,
   "id": "0d498d14-5589-4dfc-b661-a6e502008d98",
   "metadata": {},
   "outputs": [
    {
     "data": {
      "text/plain": [
       "7.262222222222222"
      ]
     },
     "execution_count": 83,
     "metadata": {},
     "output_type": "execute_result"
    }
   ],
   "source": [
    "# Find the variance of the latest array\n",
    "np.var(mult)"
   ]
  },
  {
   "cell_type": "code",
   "execution_count": 84,
   "id": "28ee74ef-8b4e-43c0-9294-a86dab9768a0",
   "metadata": {},
   "outputs": [
    {
     "data": {
      "text/plain": [
       "array([[[8.],\n",
       "        [0.],\n",
       "        [8.],\n",
       "        [2.],\n",
       "        [6.]],\n",
       "\n",
       "       [[5.],\n",
       "        [7.],\n",
       "        [6.],\n",
       "        [3.],\n",
       "        [0.]],\n",
       "\n",
       "       [[3.],\n",
       "        [6.],\n",
       "        [8.],\n",
       "        [7.],\n",
       "        [7.]]])"
      ]
     },
     "execution_count": 84,
     "metadata": {},
     "output_type": "execute_result"
    }
   ],
   "source": [
    "# Reshape the latest array to (3, 5, 1)\n",
    "np.reshape(mult, (3,5,1))"
   ]
  },
  {
   "cell_type": "code",
   "execution_count": 85,
   "id": "deda4a1c-c7d2-47c4-975d-a778cfa711b9",
   "metadata": {},
   "outputs": [
    {
     "data": {
      "text/plain": [
       "array([[8., 5., 3.],\n",
       "       [0., 7., 6.],\n",
       "       [8., 6., 8.],\n",
       "       [2., 3., 7.],\n",
       "       [6., 0., 7.]])"
      ]
     },
     "execution_count": 85,
     "metadata": {},
     "output_type": "execute_result"
    }
   ],
   "source": [
    "# Transpose the latest array\n",
    "mult.T"
   ]
  },
  {
   "cell_type": "code",
   "execution_count": 86,
   "id": "9ff71715-61cc-4c13-b674-3f282ec3d076",
   "metadata": {},
   "outputs": [],
   "source": [
    "# Create two arrays of random integers between 0 to 10\n",
    "# one of size (3, 3) the other of size (3, 2)\n",
    "random1 = np.random.randint(0, 10, (3,3))\n",
    "random2 = np.random.randint(0, 10, (3,2))"
   ]
  },
  {
   "cell_type": "code",
   "execution_count": 87,
   "id": "6a8d7be9-491d-4d01-9f4d-69f8ecb68020",
   "metadata": {},
   "outputs": [
    {
     "data": {
      "text/plain": [
       "array([[16, 40],\n",
       "       [14, 70],\n",
       "       [14, 71]])"
      ]
     },
     "execution_count": 87,
     "metadata": {},
     "output_type": "execute_result"
    }
   ],
   "source": [
    "# Perform a dot product on the two newest arrays you created\n",
    "np.dot(random1, random2)"
   ]
  },
  {
   "cell_type": "code",
   "execution_count": 88,
   "id": "d4d33789-6e99-4001-8a7d-2c1ec0ba76aa",
   "metadata": {},
   "outputs": [],
   "source": [
    "# Create two arrays of random integers between 0 to 10\n",
    "# both of size (4, 3)\n",
    "random3 = np.random.randint(0, 10, (4,3))\n",
    "random4 = np.random.randint(0, 10, (4,3))"
   ]
  },
  {
   "cell_type": "code",
   "execution_count": 89,
   "id": "c60ac3dd-a1c5-4f20-90f5-9728b3615e61",
   "metadata": {},
   "outputs": [
    {
     "ename": "ValueError",
     "evalue": "shapes (4,3) and (4,3) not aligned: 3 (dim 1) != 4 (dim 0)",
     "output_type": "error",
     "traceback": [
      "\u001b[1;31m---------------------------------------------------------------------------\u001b[0m",
      "\u001b[1;31mValueError\u001b[0m                                Traceback (most recent call last)",
      "\u001b[1;32m<ipython-input-89-b6c7c4bb9fd7>\u001b[0m in \u001b[0;36m<module>\u001b[1;34m\u001b[0m\n\u001b[0;32m      1\u001b[0m \u001b[1;31m# Perform a dot product on the two newest arrays you created\u001b[0m\u001b[1;33m\u001b[0m\u001b[1;33m\u001b[0m\u001b[1;33m\u001b[0m\u001b[0m\n\u001b[1;32m----> 2\u001b[1;33m \u001b[0mnp\u001b[0m\u001b[1;33m.\u001b[0m\u001b[0mdot\u001b[0m\u001b[1;33m(\u001b[0m\u001b[0mrandom3\u001b[0m\u001b[1;33m,\u001b[0m \u001b[0mrandom4\u001b[0m\u001b[1;33m)\u001b[0m\u001b[1;33m\u001b[0m\u001b[1;33m\u001b[0m\u001b[0m\n\u001b[0m",
      "\u001b[1;32m<__array_function__ internals>\u001b[0m in \u001b[0;36mdot\u001b[1;34m(*args, **kwargs)\u001b[0m\n",
      "\u001b[1;31mValueError\u001b[0m: shapes (4,3) and (4,3) not aligned: 3 (dim 1) != 4 (dim 0)"
     ]
    }
   ],
   "source": [
    "# Perform a dot product on the two newest arrays you created\n",
    "np.dot(random3, random4)"
   ]
  },
  {
   "cell_type": "code",
   "execution_count": 90,
   "id": "4637a649-f7e3-4c48-a72d-3a82bc6e9b16",
   "metadata": {},
   "outputs": [
    {
     "data": {
      "text/plain": [
       "array([[111,  57,  60, 105],\n",
       "       [100,  52,  56,  96],\n",
       "       [ 30,  37,  18,   4],\n",
       "       [ 85,  42,  50,  87]])"
      ]
     },
     "execution_count": 90,
     "metadata": {},
     "output_type": "execute_result"
    }
   ],
   "source": [
    "# Take the latest two arrays, perform a transpose on one of them and then perform\n",
    "# a dot product on them both\n",
    "np.dot(random3, random4.T)"
   ]
  },
  {
   "cell_type": "code",
   "execution_count": 91,
   "id": "648da497-0137-479d-bd68-f50c5025cd68",
   "metadata": {},
   "outputs": [
    {
     "data": {
      "text/plain": [
       "array([[6, 6],\n",
       "       [8, 9]])"
      ]
     },
     "execution_count": 91,
     "metadata": {},
     "output_type": "execute_result"
    }
   ],
   "source": [
    "# Create two arrays of random integers between 0 & 10 of the same shape\n",
    "# and save them to variables\n",
    "arr1 = np.random.randint(0, 10, (2,2))\n",
    "arr2 = np.random.randint(0, 10, (2,2))\n",
    "arr1"
   ]
  },
  {
   "cell_type": "code",
   "execution_count": 92,
   "id": "b4b37cf2-aa42-4ac7-b3c8-1cf7ac06f266",
   "metadata": {},
   "outputs": [
    {
     "data": {
      "text/plain": [
       "array([[False,  True],\n",
       "       [ True,  True]])"
      ]
     },
     "execution_count": 92,
     "metadata": {},
     "output_type": "execute_result"
    }
   ],
   "source": [
    "# Compare the two arrays with '>'\n",
    "arr1 > arr2"
   ]
  },
  {
   "cell_type": "code",
   "execution_count": 93,
   "id": "9db163fd-021a-43b8-831e-9b54c829e30c",
   "metadata": {},
   "outputs": [
    {
     "data": {
      "text/plain": [
       "array([[False,  True],\n",
       "       [ True,  True]])"
      ]
     },
     "execution_count": 93,
     "metadata": {},
     "output_type": "execute_result"
    }
   ],
   "source": [
    "# Compare the two arrays with '>='\n",
    "arr1 >= arr2"
   ]
  },
  {
   "cell_type": "code",
   "execution_count": 94,
   "id": "f01de576-2913-40f9-82de-80c883fa948f",
   "metadata": {},
   "outputs": [
    {
     "data": {
      "text/plain": [
       "array([8, 9])"
      ]
     },
     "execution_count": 94,
     "metadata": {},
     "output_type": "execute_result"
    }
   ],
   "source": [
    "# Find which elements of the first array are greater than 7\n",
    "mask = arr1 > 7\n",
    "arr1[mask]"
   ]
  },
  {
   "cell_type": "code",
   "execution_count": 95,
   "id": "d15e13c3-8f24-4cf8-8a2a-ab549141dc1a",
   "metadata": {},
   "outputs": [
    {
     "data": {
      "text/plain": [
       "array([], dtype=int32)"
      ]
     },
     "execution_count": 95,
     "metadata": {},
     "output_type": "execute_result"
    }
   ],
   "source": [
    "# Which parts of each array are equal? (try using '==')\n",
    "mask = arr1 == arr2\n",
    "arr1[mask]"
   ]
  },
  {
   "cell_type": "code",
   "execution_count": 96,
   "id": "996b73dc-5b0f-483e-9374-ac8150f71a0d",
   "metadata": {},
   "outputs": [
    {
     "data": {
      "text/plain": [
       "array([[6, 6],\n",
       "       [8, 9]])"
      ]
     },
     "execution_count": 96,
     "metadata": {},
     "output_type": "execute_result"
    }
   ],
   "source": [
    "# Sort one of the arrays you just created in ascending order\n",
    "np.sort(arr1)"
   ]
  },
  {
   "cell_type": "code",
   "execution_count": 97,
   "id": "482e304a-b703-466c-b1eb-9e2a3cd1217a",
   "metadata": {},
   "outputs": [
    {
     "data": {
      "text/plain": [
       "array([[0, 1],\n",
       "       [0, 1]], dtype=int64)"
      ]
     },
     "execution_count": 97,
     "metadata": {},
     "output_type": "execute_result"
    }
   ],
   "source": [
    "# Sort the indexes of one of the arrays you just created\n",
    "np.argsort(arr1, axis=1)"
   ]
  },
  {
   "cell_type": "code",
   "execution_count": 98,
   "id": "b46b905d-2d2d-4688-9ca7-bd2fb83bfc55",
   "metadata": {},
   "outputs": [
    {
     "data": {
      "text/plain": [
       "(1, 1)"
      ]
     },
     "execution_count": 98,
     "metadata": {},
     "output_type": "execute_result"
    }
   ],
   "source": [
    "# Find the index with the maximum value in one of the arrays you've created\n",
    "np.unravel_index(np.argmax(arr1), arr1.shape)"
   ]
  },
  {
   "cell_type": "code",
   "execution_count": 99,
   "id": "a3f2d2e5-ef54-45be-a01d-970ec2513ae4",
   "metadata": {},
   "outputs": [
    {
     "data": {
      "text/plain": [
       "array([0, 1], dtype=int64)"
      ]
     },
     "execution_count": 99,
     "metadata": {},
     "output_type": "execute_result"
    }
   ],
   "source": [
    "# Find the indexes with the maximum values down the 1st axis (axis=1)\n",
    "# of one of the arrays you created\n",
    "np.argmax(arr1, axis=1)\n"
   ]
  },
  {
   "cell_type": "code",
   "execution_count": 100,
   "id": "afb302a7-7692-4ba5-b9c1-17e6dc8b8c6f",
   "metadata": {},
   "outputs": [
    {
     "data": {
      "text/plain": [
       "array([0, 0], dtype=int64)"
      ]
     },
     "execution_count": 100,
     "metadata": {},
     "output_type": "execute_result"
    }
   ],
   "source": [
    "# Find the indexes with the minimum values across the 0th axis (axis=0)\n",
    "# of one of the arrays you created\n",
    "np.argmin(arr1, axis=0)"
   ]
  },
  {
   "cell_type": "code",
   "execution_count": 101,
   "id": "d51cdf6c-806a-40b0-a81a-6ab1a13cce75",
   "metadata": {},
   "outputs": [
    {
     "data": {
      "text/plain": [
       "array([[ 0.09176078, -1.98756891, -0.21967189,  0.35711257],\n",
       "       [ 1.47789404, -0.51827022, -0.8084936 , -0.50175704],\n",
       "       [ 0.91540212,  0.32875111, -0.5297602 ,  0.51326743]])"
      ]
     },
     "execution_count": 101,
     "metadata": {},
     "output_type": "execute_result"
    }
   ],
   "source": [
    "# Create an array of normally distributed random numbers\n",
    "normally_distribute = np.random.randn(3,4)\n",
    "normally_distribute"
   ]
  },
  {
   "cell_type": "code",
   "execution_count": 102,
   "id": "687e3459-aca1-4fe1-80bd-c579d3f8dce3",
   "metadata": {},
   "outputs": [
    {
     "data": {
      "text/plain": [
       "array([  1.,  12.,  23.,  34.,  45.,  56.,  67.,  78.,  89., 100.])"
      ]
     },
     "execution_count": 102,
     "metadata": {},
     "output_type": "execute_result"
    }
   ],
   "source": [
    "# Create an array with 10 evenly spaced numbers between 1 and 100\n",
    "np.linspace(1, 100, 10)"
   ]
  },
  {
   "cell_type": "code",
   "execution_count": null,
   "id": "0646e7dc-ec58-4c76-88f6-f98b7d626025",
   "metadata": {},
   "outputs": [],
   "source": []
  }
 ],
 "metadata": {
  "kernelspec": {
   "display_name": "Python 3",
   "language": "python",
   "name": "python3"
  },
  "language_info": {
   "codemirror_mode": {
    "name": "ipython",
    "version": 3
   },
   "file_extension": ".py",
   "mimetype": "text/x-python",
   "name": "python",
   "nbconvert_exporter": "python",
   "pygments_lexer": "ipython3",
   "version": "3.8.8"
  }
 },
 "nbformat": 4,
 "nbformat_minor": 5
}
